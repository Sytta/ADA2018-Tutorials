{
 "cells": [
  {
   "cell_type": "markdown",
   "metadata": {},
   "source": [
    "# Spark Tutorial"
   ]
  },
  {
   "cell_type": "markdown",
   "metadata": {},
   "source": [
    "During the last few decades, we have witnessed an exponential growth of the volume of data. Terms such as Big Data and the data deluge have been coined to describe the situation. The data that has to be processed is too large for a single machine, even when we take high-end servers with hundreds of GBs of main memory into account. A viable solution is to use multiple machines in order to process this data, to scale-out."
   ]
  },
  {
   "cell_type": "markdown",
   "metadata": {},
   "source": [
    "To this end, several distributed systems have been proposed. Spark is one of the most popular options and it is open-source and general-purpose. It leverages in-memory processing to significantly outperform its predecessors such as Hadoop MapReduce (though they have many common components such as Yarn and HDFS). Its programming model relies on RDD and transformations on them. More on that soon! "
   ]
  },
  {
   "cell_type": "markdown",
   "metadata": {},
   "source": [
    "## Setting up the environment"
   ]
  },
  {
   "cell_type": "markdown",
   "metadata": {},
   "source": [
    "Before using Spark functionality, we have to set up the environment. First, we import the modules required for the examples in this tutorial. Then, we create a Spark session which provides an entry point for interacting with Spark and allows programming Spark with DataFrame and Dataset APIs."
   ]
  },
  {
   "cell_type": "code",
   "execution_count": 8,
   "metadata": {
    "scrolled": true
   },
   "outputs": [],
   "source": [
    "import re\n",
    "import pandas as pd\n",
    "import numpy as np\n",
    "import matplotlib\n",
    "import matplotlib.pyplot as plt\n",
    "%matplotlib inline\n",
    "\n",
    "import findspark\n",
    "findspark.init()\n",
    "\n",
    "from pyspark.sql import *\n",
    "from pyspark.sql.functions import *\n",
    "from pyspark.sql.functions import min\n",
    "\n",
    "from pyspark.sql import SparkSession\n",
    "from pyspark import SparkContext\n",
    "\n",
    "spark = SparkSession.builder.getOrCreate()\n",
    "sc = spark.sparkContext"
   ]
  },
  {
   "cell_type": "markdown",
   "metadata": {},
   "source": [
    "Next download the data and set the path to the directory where they are stored. <br>\n",
    "Link: https://drive.google.com/drive/folders/1jV0NLcjhs98OLpEE0AaDdJvAfVJipMv1"
   ]
  },
  {
   "cell_type": "code",
   "execution_count": 35,
   "metadata": {},
   "outputs": [],
   "source": [
    "#example for data directory at notebook's directory\n",
    "DATA_DIR = 'data/'"
   ]
  },
  {
   "cell_type": "markdown",
   "metadata": {},
   "source": [
    "Now, we have to load the data from the files and create the corresponding RDDs by using the following statements:"
   ]
  },
  {
   "cell_type": "code",
   "execution_count": 36,
   "metadata": {},
   "outputs": [],
   "source": [
    "titles_rdd = sc.textFile(DATA_DIR+'titles.csv') \\\n",
    "                .map(lambda line: line.strip().split('|')) \\\n",
    "                .filter(lambda r: len(r) == 9)\n",
    "ratings_rdd = sc.textFile(DATA_DIR+'ratings.csv') \\\n",
    "                .map(lambda line: line.strip().split('|')) \\\n",
    "                .filter(lambda r: len(r) == 3)"
   ]
  },
  {
   "cell_type": "code",
   "execution_count": 37,
   "metadata": {
    "scrolled": true
   },
   "outputs": [
    {
     "data": {
      "text/plain": [
       "1620153"
      ]
     },
     "execution_count": 37,
     "metadata": {},
     "output_type": "execute_result"
    }
   ],
   "source": [
    "titles_rdd.count()"
   ]
  },
  {
   "cell_type": "code",
   "execution_count": 38,
   "metadata": {},
   "outputs": [
    {
     "data": {
      "text/plain": [
       "875804"
      ]
     },
     "execution_count": 38,
     "metadata": {},
     "output_type": "execute_result"
    }
   ],
   "source": [
    "ratings_rdd.count()"
   ]
  },
  {
   "cell_type": "markdown",
   "metadata": {},
   "source": [
    "## Warming up with sparks"
   ]
  },
  {
   "cell_type": "markdown",
   "metadata": {},
   "source": [
    "The dataset we are using for this tutorial is the well-known IMDB dataset, We use the title and rating tables with the following schemas: <br>\n",
    "id|type|name|original name|adult|start year|end year|running time|genre list <br>\n",
    "id|rating|votes"
   ]
  },
  {
   "cell_type": "markdown",
   "metadata": {},
   "source": [
    "We will start with some basic Spark operations. Let's suppose we are interested in the movies that were published in 1995."
   ]
  },
  {
   "cell_type": "code",
   "execution_count": 12,
   "metadata": {},
   "outputs": [],
   "source": [
    "#filter movie and 1995\n",
    "movies1995_rdd = titles_rdd.filter(lambda r: r[1] == 'movie' and r[5] == '1995')"
   ]
  },
  {
   "cell_type": "markdown",
   "metadata": {},
   "source": [
    "Then, we can get the number of such movies with the statement:"
   ]
  },
  {
   "cell_type": "code",
   "execution_count": 13,
   "metadata": {},
   "outputs": [
    {
     "data": {
      "text/plain": [
       "4001"
      ]
     },
     "execution_count": 13,
     "metadata": {},
     "output_type": "execute_result"
    }
   ],
   "source": [
    "#count\n",
    "movies1995_rdd.count()"
   ]
  },
  {
   "cell_type": "markdown",
   "metadata": {},
   "source": [
    "One of most common transformation operations in Spark, and the MapReduce model in general, is map, which applies a function to the elements of an RDD and returns an RDD with the results. For example, we can transform the ratings to the 100 scale. "
   ]
  },
  {
   "cell_type": "code",
   "execution_count": 14,
   "metadata": {},
   "outputs": [
    {
     "data": {
      "text/plain": [
       "10825"
      ]
     },
     "execution_count": 14,
     "metadata": {},
     "output_type": "execute_result"
    }
   ],
   "source": [
    "#map(lambda (id,rating,votes) : (id, int(10*rating),votes))\n",
    "def tofloat(n) :\n",
    "    try:\n",
    "        float(n)\n",
    "        return float(n)\n",
    "    except ValueError:\n",
    "        return -1.0\n",
    "    \n",
    "def toint(n) :\n",
    "    try:\n",
    "        int(n)\n",
    "        return int(n)\n",
    "    except ValueError:\n",
    "        return -1\n",
    "    \n",
    "ratings100_rdd = ratings_rdd.map(lambda r: (r[0], int(10*tofloat(r[1])), toint(r[2])))\n",
    "#filter those with over 97 and collect print\n",
    "ratings95plus_rdd = ratings100_rdd.filter(lambda r: r[1] >= 95)\n",
    "ratings95plus_rdd.count()"
   ]
  },
  {
   "cell_type": "markdown",
   "metadata": {},
   "source": [
    "Other transformations also exist, such as flatMap and reduceByKey. Transformations can also be applied in a sequence to perform more complex computations."
   ]
  },
  {
   "cell_type": "markdown",
   "metadata": {},
   "source": [
    "Let's suppose we want to compute the number of movies per genre."
   ]
  },
  {
   "cell_type": "code",
   "execution_count": 15,
   "metadata": {
    "scrolled": false
   },
   "outputs": [
    {
     "data": {
      "text/plain": [
       "[('Short', 693890),\n",
       " ('Romance', 74072),\n",
       " ('Sport', 24891),\n",
       " ('Drama', 440121),\n",
       " ('Fantasy', 43305),\n",
       " ('Western', 13478),\n",
       " ('Family', 61350),\n",
       " ('Sci-Fi', 37671),\n",
       " ('Thriller', 61328),\n",
       " ('Musical', 20398)]"
      ]
     },
     "execution_count": 15,
     "metadata": {},
     "output_type": "execute_result"
    }
   ],
   "source": [
    "#flatMap and reduceByKey\n",
    "genres_rdd = titles_rdd.flatMap(lambda r: [(r[0], g) for g in r[8].split(',')])\n",
    "genre_frequency = genres_rdd.map(lambda r: (r[1],1)).reduceByKey(lambda a,b: a+b)\n",
    "genre_frequency.take(10)\n",
    "#maybe have groupby example somewhere?"
   ]
  },
  {
   "cell_type": "markdown",
   "metadata": {},
   "source": [
    "Then, we can also use the transformations of Spark in order to get the ten most common genres."
   ]
  },
  {
   "cell_type": "code",
   "execution_count": 16,
   "metadata": {
    "scrolled": false
   },
   "outputs": [
    {
     "data": {
      "text/plain": [
       "[('Short', 693890),\n",
       " ('Drama', 440121),\n",
       " ('Comedy', 314054),\n",
       " ('Documentary', 280118),\n",
       " ('\\\\N', 119723),\n",
       " ('Action', 85652),\n",
       " ('Music', 82110),\n",
       " ('Romance', 74072),\n",
       " ('Animation', 68966),\n",
       " ('Horror', 66782)]"
      ]
     },
     "execution_count": 16,
     "metadata": {},
     "output_type": "execute_result"
    }
   ],
   "source": [
    "genre_frequency.sortBy(lambda r: r[1], ascending = False).take(10)"
   ]
  },
  {
   "cell_type": "markdown",
   "metadata": {},
   "source": [
    "Also, we can combine different RDDs by using transformations such as joins, unions and intersections. For instance, to get movies with ratings over 95% which were produced after 2000:"
   ]
  },
  {
   "cell_type": "code",
   "execution_count": 17,
   "metadata": {},
   "outputs": [
    {
     "data": {
      "text/plain": [
       "[('tt1711364', ('A3D Ayumi Hamasaki Arena Tour 2009 A: Next Level', 95)),\n",
       " ('tt4075214', ('Birmingham Ornament', 97)),\n",
       " ('tt4418908', ('Memoirs of a Broken Mind', 96)),\n",
       " ('tt4656004', ('Mémoire', 95)),\n",
       " ('tt5122222', ('Flaugstad', 95)),\n",
       " ('tt5612400', ('Summer Days: Good Day Sunshine', 95)),\n",
       " ('tt6074834', ('Delaware Shore', 96)),\n",
       " ('tt6112220', ('The Butterfly Effect', 95)),\n",
       " ('tt6289570', ('Ufrivillig', 97)),\n",
       " ('tt6325188', ('Somewhere Over That Rainbow', 100))]"
      ]
     },
     "execution_count": 17,
     "metadata": {},
     "output_type": "execute_result"
    }
   ],
   "source": [
    "#join, filter, filter, collect\n",
    "titles_rdd.filter(lambda r: r[1] == 'movie' and r[5].isdigit() and int(r[5]) > 2000) \\\n",
    "            .map(lambda r: (r[0],r[2])) \\\n",
    "            .join(ratings95plus_rdd) \\\n",
    "            .take(10)"
   ]
  },
  {
   "cell_type": "markdown",
   "metadata": {},
   "source": [
    "Also, we can use more complex functions with our transformations. To get titles that match with \"Lord of the Rings\", we can combine regular expressions and other functions."
   ]
  },
  {
   "cell_type": "code",
   "execution_count": 18,
   "metadata": {
    "scrolled": true
   },
   "outputs": [
    {
     "data": {
      "text/plain": [
       "['The Lord of the Rings',\n",
       " 'The Lord of the Rings: The Fellowship of the Ring',\n",
       " 'Lord of the Rings',\n",
       " 'The Lord of the Rings: The Return of the King',\n",
       " 'The Lord of the Rings: The Two Towers']"
      ]
     },
     "execution_count": 18,
     "metadata": {},
     "output_type": "execute_result"
    }
   ],
   "source": [
    "regexp = re.compile(\"lord.*rings\")\n",
    "titles_rdd.filter(lambda r: regexp.search(r[2].lower()) != None).map(lambda r: r[2]).take(5)\n"
   ]
  },
  {
   "cell_type": "markdown",
   "metadata": {},
   "source": [
    "As we explained in the class, Spark also offers its own DataFrame abstraction. We can convert our RDDs by giving them a structure."
   ]
  },
  {
   "cell_type": "code",
   "execution_count": 19,
   "metadata": {},
   "outputs": [],
   "source": [
    "titles_rows = titles_rdd.map(lambda r: Row(id=r[0], type=r[1], title=r[2], year=r[5],runtime=r[7],genres=r[8]))\n",
    "ratings_rows = ratings100_rdd.map(lambda r: Row(id=r[0],rating=r[1],votes=r[2]))\n",
    "\n",
    "titles = spark.createDataFrame(titles_rows)\n",
    "ratings = spark.createDataFrame(ratings_rows)"
   ]
  },
  {
   "cell_type": "markdown",
   "metadata": {},
   "source": [
    "Also, we can store our data using Apache Parquet. Parquet is a columnar, horizontally-partitioned storage format that supports compression and efficient access. Therefore, it is ideal for Hadoop applications such as Spark."
   ]
  },
  {
   "cell_type": "code",
   "execution_count": 20,
   "metadata": {},
   "outputs": [],
   "source": [
    "titles.write.mode('overwrite').parquet(\"titles.parquet\")\n",
    "ratings.write.mode('overwrite').parquet(\"ratings.parquet\")"
   ]
  },
  {
   "cell_type": "code",
   "execution_count": 21,
   "metadata": {},
   "outputs": [],
   "source": [
    "titles = spark.read.parquet(\"titles.parquet\")\n",
    "ratings = spark.read.parquet(\"ratings.parquet\")"
   ]
  },
  {
   "cell_type": "markdown",
   "metadata": {},
   "source": [
    "## When the SeQueL is even better"
   ]
  },
  {
   "cell_type": "markdown",
   "metadata": {},
   "source": [
    "Spark and the transformations discussed so far can be used to manipulate the RDDs in a functional manner. However, doing so results in long expressions and multiple simple RDD transformations. It is often more convenient to use good ol' SQL for manipulating data because of its benefits. It is declarative (we need to explain what data we want, instead of how to compute it) and supports complex data manipulations. Also, it allows for Query Optimization at the level of query plans."
   ]
  },
  {
   "cell_type": "markdown",
   "metadata": {},
   "source": [
    "But before we use SQL, we have to register our DataFrames as tables."
   ]
  },
  {
   "cell_type": "code",
   "execution_count": 22,
   "metadata": {
    "scrolled": true
   },
   "outputs": [
    {
     "name": "stdout",
     "output_type": "stream",
     "text": [
      "+---------+------+-----+\n",
      "|       id|rating|votes|\n",
      "+---------+------+-----+\n",
      "|   tconst|   -10|   -1|\n",
      "|tt0000001|    58| 1425|\n",
      "|tt0000002|    64|  168|\n",
      "|tt0000003|    66| 1022|\n",
      "|tt0000004|    64|  100|\n",
      "|tt0000005|    62| 1717|\n",
      "|tt0000006|    55|   89|\n",
      "|tt0000007|    55|  574|\n",
      "|tt0000008|    56| 1527|\n",
      "|tt0000009|    55|   70|\n",
      "|tt0000010|    69| 5091|\n",
      "|tt0000011|    54|  210|\n",
      "|tt0000012|    74| 8520|\n",
      "|tt0000013|    57| 1302|\n",
      "|tt0000014|    72| 3702|\n",
      "|tt0000015|    62|  647|\n",
      "|tt0000016|    59|  970|\n",
      "|tt0000017|    48|  195|\n",
      "|tt0000018|    55|  410|\n",
      "|tt0000019|    66|   13|\n",
      "+---------+------+-----+\n",
      "only showing top 20 rows\n",
      "\n"
     ]
    }
   ],
   "source": [
    "titles.registerTempTable('titles')\n",
    "ratings.registerTempTable('ratings')\n",
    "ratings.show()"
   ]
  },
  {
   "cell_type": "markdown",
   "metadata": {},
   "source": [
    "Then we can perform complex data manipulations just by typing the corresponding SQL query. For example, we can compute the maximum, the minimum and the weighted average rating per title type for titles that have more than 1000 votes and were published in 1995, with the requirement that the title type has more than 100 titles that fullfill these requirements, just by typing in the respective query..."
   ]
  },
  {
   "cell_type": "code",
   "execution_count": 23,
   "metadata": {
    "scrolled": true
   },
   "outputs": [
    {
     "name": "stdout",
     "output_type": "stream",
     "text": [
      "+------------+-----------+-----------+------------------------------+\n",
      "|        type|min(rating)|max(rating)|(sum(voterating) / sum(votes))|\n",
      "+------------+-----------+-----------+------------------------------+\n",
      "|    tvSeries|         39|         90|             76.32193042002545|\n",
      "|tvMiniSeries|         61|         94|              81.6740534356779|\n",
      "|     tvMovie|         32|         86|             71.66891825883076|\n",
      "|       movie|         23|         89|             74.00091692429591|\n",
      "|       video|         17|         87|             54.75600659829305|\n",
      "|   videoGame|         42|         95|             80.78001795208175|\n",
      "|       short|         69|         82|             80.58619617968395|\n",
      "+------------+-----------+-----------+------------------------------+\n",
      "\n"
     ]
    }
   ],
   "source": [
    "ratings2 = ratings  .filter('votes > 1000') \\\n",
    "                    .select('id','rating','votes',(ratings[\"votes\"]*ratings[\"rating\"]).alias(\"voterating\"))\n",
    "\n",
    "result1 = titles.filter('year = 1995') \\\n",
    "                .join(ratings2, 'id') \\\n",
    "                .groupBy('type') \\\n",
    "                .agg(min('rating'), max('rating'), sum('voterating')/sum('votes'))\n",
    "                \n",
    "result1.show()"
   ]
  },
  {
   "cell_type": "markdown",
   "metadata": {},
   "source": [
    "SQL allows for quite complex computations. Let's assume we want to compute the 75th percentile rating for each year's worth of published movies."
   ]
  },
  {
   "cell_type": "code",
   "execution_count": 24,
   "metadata": {},
   "outputs": [
    {
     "name": "stdout",
     "output_type": "stream",
     "text": [
      "+----+------+\n",
      "|year|median|\n",
      "+----+------+\n",
      "|1874|  70.0|\n",
      "|1878|  74.0|\n",
      "|1881|  51.0|\n",
      "|1883|  64.0|\n",
      "|1885|  50.0|\n",
      "|1887|  53.0|\n",
      "|1888|  68.0|\n",
      "|1889|  57.0|\n",
      "|1890|  55.0|\n",
      "|1891|  51.5|\n",
      "|1892|  64.0|\n",
      "|1893|  59.0|\n",
      "|1894|  56.5|\n",
      "|1895|  60.0|\n",
      "|1896|  60.0|\n",
      "|1897|  57.0|\n",
      "|1898|  60.0|\n",
      "|1899|  58.0|\n",
      "|1900|  59.0|\n",
      "|1901|  59.0|\n",
      "+----+------+\n",
      "only showing top 20 rows\n",
      "\n"
     ]
    }
   ],
   "source": [
    "query2 = \"\"\"\n",
    "select year, percentile(rating, 0.75) as median\n",
    "from ratings\n",
    "inner join titles on ratings.id = titles.id\n",
    "group by year\n",
    "order by year\n",
    "\"\"\"\n",
    "\n",
    "result2 = spark.sql(query2)\n",
    "result2.show()"
   ]
  },
  {
   "cell_type": "markdown",
   "metadata": {},
   "source": [
    "We are not limited to using the original data for our queries. We can also use RDDs by registering them as tables. Then, with a simple query we can get the top-10 rated genres on a weighted average rating as follows: "
   ]
  },
  {
   "cell_type": "code",
   "execution_count": 25,
   "metadata": {
    "scrolled": true
   },
   "outputs": [],
   "source": [
    "genres_rows = genres_rdd.map(lambda r: Row(id=r[0],genre=r[1]))\n",
    "\n",
    "genres = spark.createDataFrame(genres_rows)\n",
    "genres.registerTempTable('genres')"
   ]
  },
  {
   "cell_type": "code",
   "execution_count": 26,
   "metadata": {
    "scrolled": false
   },
   "outputs": [
    {
     "name": "stdout",
     "output_type": "stream",
     "text": [
      "+-----------+-----------------+\n",
      "|      genre|             rank|\n",
      "+-----------+-----------------+\n",
      "|  Film-Noir|77.07760159811983|\n",
      "|        War|76.27642019889124|\n",
      "|    History|75.84595053332491|\n",
      "|  Biography|75.77653836108365|\n",
      "|    Western|75.30914642542383|\n",
      "|       News|75.22116128193741|\n",
      "|  Talk-Show|75.21612801102452|\n",
      "|Documentary|74.94042120585465|\n",
      "|  Animation|74.55101959813607|\n",
      "|      Drama|74.31044065111396|\n",
      "+-----------+-----------------+\n",
      "\n"
     ]
    }
   ],
   "source": [
    "query3 = \"\"\"\n",
    "select genre, sum(rating*votes)/sum(votes) as rank\n",
    "from genres\n",
    "inner join ratings on genres.id = ratings.id\n",
    "where votes > 0\n",
    "group by genre\n",
    "order by rank desc\n",
    "limit 10\n",
    "\"\"\"\n",
    "\n",
    "result3 = spark.sql(query3)\n",
    "result3.show()"
   ]
  },
  {
   "cell_type": "markdown",
   "metadata": {},
   "source": [
    "We can also use these intermediate results as tables for new queries. To count the number of movies for the top-10 rated genres in 2001:"
   ]
  },
  {
   "cell_type": "code",
   "execution_count": 27,
   "metadata": {
    "scrolled": false
   },
   "outputs": [
    {
     "name": "stdout",
     "output_type": "stream",
     "text": [
      "+--------+\n",
      "|count(1)|\n",
      "+--------+\n",
      "|    3076|\n",
      "+--------+\n",
      "\n"
     ]
    }
   ],
   "source": [
    "result3.registerTempTable('topgenres')\n",
    "\n",
    "query4 = \"\"\"\n",
    "select count(*)\n",
    "from topgenres\n",
    "inner join genres on genres.genre=topgenres.genre\n",
    "inner join titles on genres.id=titles.id\n",
    "where year = '2001' and type='movie'\n",
    "\"\"\"\n",
    "\n",
    "result4 = spark.sql(query4)\n",
    "result4.show()"
   ]
  },
  {
   "cell_type": "markdown",
   "metadata": {},
   "source": [
    "The workflow can move back to RDDs afterwards, by converting the dataset."
   ]
  },
  {
   "cell_type": "code",
   "execution_count": 28,
   "metadata": {},
   "outputs": [
    {
     "data": {
      "text/plain": [
       "MapPartitionsRDD[151] at javaToPython at NativeMethodAccessorImpl.java:0"
      ]
     },
     "execution_count": 28,
     "metadata": {},
     "output_type": "execute_result"
    }
   ],
   "source": [
    "result4.rdd"
   ]
  },
  {
   "cell_type": "markdown",
   "metadata": {},
   "source": [
    "## Dancing with the Pandas"
   ]
  },
  {
   "cell_type": "markdown",
   "metadata": {},
   "source": [
    "At the end of the pipeline, we still want our results in memory for further processing. Earlier in the course, we saw Pandas and the functionality it provides. Luckily, Spark provides a way to move from Spark DataFrames to Pandas ones almost seamlessly."
   ]
  },
  {
   "cell_type": "code",
   "execution_count": 29,
   "metadata": {},
   "outputs": [],
   "source": [
    "#plot rank per year\n",
    "yr = result2.toPandas()\n",
    "yr = yr[yr['year'] != \"\\\\N\"]"
   ]
  },
  {
   "cell_type": "markdown",
   "metadata": {},
   "source": [
    "At this point,we can even benefit from the visualization capabilities that Pandas can provide."
   ]
  },
  {
   "cell_type": "code",
   "execution_count": 30,
   "metadata": {
    "scrolled": true
   },
   "outputs": [
    {
     "data": {
      "text/plain": [
       "<matplotlib.axes._subplots.AxesSubplot at 0x109307b38>"
      ]
     },
     "execution_count": 30,
     "metadata": {},
     "output_type": "execute_result"
    },
    {
     "data": {
      "image/png": "[encoded data removed]",
      "text/plain": [
       "<Figure size 432x288 with 1 Axes>"
      ]
     },
     "metadata": {},
     "output_type": "display_data"
    }
   ],
   "source": [
    "yr['year'] = yr['year'].apply(pd.to_numeric)\n",
    "yr.plot.scatter(x='year',y='median')"
   ]
  },
  {
   "cell_type": "markdown",
   "metadata": {},
   "source": [
    "# Post Credits: 5 min example of cluster"
   ]
  }
 ],
 "metadata": {
  "kernelspec": {
   "display_name": "Python 3",
   "language": "python",
   "name": "python3"
  },
  "language_info": {
   "codemirror_mode": {
    "name": "ipython",
    "version": 3
   },
   "file_extension": ".py",
   "mimetype": "text/x-python",
   "name": "python",
   "nbconvert_exporter": "python",
   "pygments_lexer": "ipython3",
   "version": "3.6.5"
  }
 },
 "nbformat": 4,
 "nbformat_minor": 2
}
